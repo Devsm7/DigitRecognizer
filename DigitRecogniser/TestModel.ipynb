{
 "cells": [
  {
   "cell_type": "code",
   "execution_count": 1,
   "id": "37af23ce",
   "metadata": {},
   "outputs": [],
   "source": [
    "from model import MNISTModel\n",
    "import numpy as np\n",
    "import pandas as pd\n",
    "from matplotlib import pyplot as plt\n",
    "\n"
   ]
  },
  {
   "cell_type": "markdown",
   "id": "3e993c29",
   "metadata": {},
   "source": [
    "## Data Loading\n"
   ]
  },
  {
   "cell_type": "code",
   "execution_count": 4,
   "id": "60a9ab88",
   "metadata": {},
   "outputs": [],
   "source": [
    "\n",
    "data = pd.read_csv('C:/MyData/Projects/DigitRecognizer/digit-recognizer/train.csv')\n",
    "\n",
    "data = np.array(data)\n",
    "m , n = data.shape\n",
    "np.random.shuffle(data)\n",
    "\n",
    "data_dev = data[0:1000].T\n",
    "Y_dev = data_dev[0]\n",
    "X_dev = data_dev[1:n].T\n",
    "X_dev = X_dev / 255.0\n",
    "\n",
    "data_train = data[1000:m].T\n",
    "Y_train = data_train[0]\n",
    "X_train = data_train[1:n]## (num_features , num_samples)\n",
    "X_train = X_train / 255.0\n",
    "\n"
   ]
  },
  {
   "cell_type": "markdown",
   "id": "3652a28d",
   "metadata": {},
   "source": [
    "## Train Model\n"
   ]
  },
  {
   "cell_type": "code",
   "execution_count": 5,
   "id": "4992c740",
   "metadata": {},
   "outputs": [
    {
     "name": "stdout",
     "output_type": "stream",
     "text": [
      "Iteration 0 - Accuracy: 9.71%\n",
      "0.006411398540544554 -0.003751332893181481 -0.008936907079817768\n",
      "Iteration 50 - Accuracy: 33.05%\n",
      "0.006411398540544554 -0.003751122827014092 -0.009388939514764555\n",
      "Iteration 100 - Accuracy: 47.13%\n",
      "0.006411398540544554 -0.003751122827014092 -0.01708134596253041\n",
      "Iteration 150 - Accuracy: 69.20%\n",
      "0.006411398540544554 -0.003751122827014092 -0.02517616381776529\n",
      "Iteration 200 - Accuracy: 76.27%\n",
      "0.006411398540544554 -0.003751122827014092 -0.02883478763749751\n",
      "Iteration 250 - Accuracy: 80.91%\n",
      "0.006411398540544554 -0.0037510100286323963 -0.030318730633319187\n",
      "Iteration 300 - Accuracy: 83.97%\n",
      "0.006411398540544554 -0.003750672976456686 -0.031119975210728408\n",
      "Iteration 350 - Accuracy: 85.94%\n",
      "0.006411398540544554 -0.0037502631533480307 -0.03179052597429984\n",
      "Iteration 400 - Accuracy: 87.23%\n",
      "0.006411398540544554 -0.0037498335709920385 -0.03198917103516794\n",
      "Iteration 450 - Accuracy: 88.09%\n",
      "0.006411398540544554 -0.00374942762289995 -0.03157175336339421\n",
      "Iteration 500 - Accuracy: 88.63%\n",
      "0.006411398540544554 -0.003749075930668492 -0.03070960434666147\n"
     ]
    }
   ],
   "source": [
    "\n",
    "model = MNISTModel(alpha=0.1)\n",
    "model.train(X_train, Y_train, iterations=500)"
   ]
  },
  {
   "cell_type": "markdown",
   "id": "10486af0",
   "metadata": {},
   "source": [
    "## Test Model"
   ]
  },
  {
   "cell_type": "code",
   "execution_count": 15,
   "id": "72333b9d",
   "metadata": {},
   "outputs": [
    {
     "name": "stdout",
     "output_type": "stream",
     "text": [
      "Dev Set Accuracy: 87.9\n"
     ]
    }
   ],
   "source": [
    "\n",
    "preds = model.predict(X_dev.T)\n",
    "acc = model.get_accuracy(preds, Y_dev)\n",
    "print(\"Dev Set Accuracy:\", acc)"
   ]
  },
  {
   "cell_type": "code",
   "execution_count": 13,
   "id": "572d4b66",
   "metadata": {},
   "outputs": [
    {
     "name": "stdout",
     "output_type": "stream",
     "text": [
      "Prediction:  [4]\n",
      "Label:  4\n"
     ]
    },
    {
     "data": {
      "image/png": "[encoded data removed]",
      "text/plain": [
       "<Figure size 640x480 with 1 Axes>"
      ]
     },
     "metadata": {},
     "output_type": "display_data"
    }
   ],
   "source": [
    "model.test_prediction(2,X_train,Y_train)"
   ]
  },
  {
   "cell_type": "code",
   "execution_count": null,
   "id": "86ecbebc",
   "metadata": {},
   "outputs": [],
   "source": []
  }
 ],
 "metadata": {
  "kernelspec": {
   "display_name": "Python 3",
   "language": "python",
   "name": "python3"
  },
  "language_info": {
   "codemirror_mode": {
    "name": "ipython",
    "version": 3
   },
   "file_extension": ".py",
   "mimetype": "text/x-python",
   "name": "python",
   "nbconvert_exporter": "python",
   "pygments_lexer": "ipython3",
   "version": "3.11.9"
  }
 },
 "nbformat": 4,
 "nbformat_minor": 5
}
