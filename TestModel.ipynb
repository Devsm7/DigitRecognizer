{
 "cells": [
  {
   "cell_type": "code",
   "execution_count": 1,
   "id": "37af23ce",
   "metadata": {},
   "outputs": [],
   "source": [
    "from model import MNISTModel\n",
    "import numpy as np\n",
    "import pandas as pd\n",
    "from matplotlib import pyplot as plt\n",
    "\n"
   ]
  },
  {
   "cell_type": "markdown",
   "id": "3e993c29",
   "metadata": {},
   "source": [
    "## Data Loading\n"
   ]
  },
  {
   "cell_type": "code",
   "execution_count": null,
   "id": "60a9ab88",
   "metadata": {},
   "outputs": [],
   "source": [
    "\n",
    "data = pd.read_csv('C:/Users/user/Desktop/Projects/DigitRecognizer/digit-recognizer/train.csv')\n",
    "\n",
    "data = np.array(data)\n",
    "m , n = data.shape\n",
    "np.random.shuffle(data)\n",
    "\n",
    "data_dev = data[0:1000].T\n",
    "Y_dev = data_dev[0]\n",
    "X_dev = data_dev[1:n].T\n",
    "X_dev = X_dev / 255.0\n",
    "\n",
    "data_train = data[1000:m].T\n",
    "Y_train = data_train[0]\n",
    "X_train = data_train[1:n]## (num_features , num_samples)\n",
    "X_train = X_train / 255.0\n",
    "\n"
   ]
  },
  {
   "cell_type": "markdown",
   "id": "3652a28d",
   "metadata": {},
   "source": [
    "## Train Model\n"
   ]
  },
  {
   "cell_type": "code",
   "execution_count": null,
   "id": "4992c740",
   "metadata": {},
   "outputs": [
    {
     "name": "stdout",
     "output_type": "stream",
     "text": [
      "Iteration 0 - Accuracy: 6.42%\n",
      "-0.00211874158420843 0.0040414653564903435 -0.014937728251172582\n",
      "Iteration 50 - Accuracy: 28.88%\n",
      "-0.00211874158420843 0.004041239139065959 -0.014919662841750374\n",
      "Iteration 100 - Accuracy: 62.30%\n",
      "-0.00211874158420843 0.004029062745282753 -0.016777197271291677\n",
      "Iteration 150 - Accuracy: 74.51%\n",
      "-0.00211874158420843 0.004010468149011527 -0.020609863598600692\n",
      "Iteration 200 - Accuracy: 80.80%\n",
      "-0.00211874158420843 0.003994043208535508 -0.02270794490587837\n",
      "Iteration 250 - Accuracy: 83.62%\n",
      "-0.00211874158420843 0.003980020164110156 -0.024792270329327383\n",
      "Iteration 300 - Accuracy: 85.41%\n",
      "-0.00211874158420843 0.003971234221438534 -0.026762669341998325\n",
      "Iteration 350 - Accuracy: 86.65%\n",
      "-0.00211874158420843 0.003968610044416117 -0.028103902203973824\n",
      "Iteration 400 - Accuracy: 87.56%\n",
      "-0.00211874158420843 0.003971308797619782 -0.028640364715646856\n",
      "Iteration 450 - Accuracy: 88.29%\n",
      "-0.00211874158420843 0.003977986448795776 -0.028421896370249104\n",
      "Iteration 500 - Accuracy: 88.83%\n",
      "-0.00211874158420843 0.003987434041960396 -0.02774900319065038\n"
     ]
    }
   ],
   "source": [
    "\n",
    "model = MNISTModel(alpha=0.1)\n",
    "model.train(X_train, Y_train, iterations=500)"
   ]
  },
  {
   "cell_type": "markdown",
   "id": "10486af0",
   "metadata": {},
   "source": [
    "## Test Model"
   ]
  },
  {
   "cell_type": "code",
   "execution_count": 15,
   "id": "72333b9d",
   "metadata": {},
   "outputs": [
    {
     "name": "stdout",
     "output_type": "stream",
     "text": [
      "Dev Set Accuracy: 89.2\n"
     ]
    }
   ],
   "source": [
    "\n",
    "preds = model.predict(X_dev.T)\n",
    "acc = model.get_accuracy(preds, Y_dev)\n",
    "print(\"Dev Set Accuracy:\", acc)"
   ]
  },
  {
   "cell_type": "code",
   "execution_count": 16,
   "id": "572d4b66",
   "metadata": {},
   "outputs": [
    {
     "name": "stdout",
     "output_type": "stream",
     "text": [
      "Prediction:  [6]\n",
      "Label:  6\n"
     ]
    },
    {
     "data": {
      "image/png": "[encoded data removed]",
      "text/plain": [
       "<Figure size 640x480 with 1 Axes>"
      ]
     },
     "metadata": {},
     "output_type": "display_data"
    }
   ],
   "source": [
    "model.test_prediction(2,X_train,Y_train)"
   ]
  }
 ],
 "metadata": {
  "kernelspec": {
   "display_name": ".venv",
   "language": "python",
   "name": "python3"
  },
  "language_info": {
   "codemirror_mode": {
    "name": "ipython",
    "version": 3
   },
   "file_extension": ".py",
   "mimetype": "text/x-python",
   "name": "python",
   "nbconvert_exporter": "python",
   "pygments_lexer": "ipython3",
   "version": "3.13.0"
  }
 },
 "nbformat": 4,
 "nbformat_minor": 5
}
